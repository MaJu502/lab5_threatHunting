{
 "cells": [
  {
   "cell_type": "markdown",
   "metadata": {},
   "source": [
    "# Laboratorio no. 5 Threat Hunting\n",
    "Marco Jurado 20308"
   ]
  },
  {
   "cell_type": "code",
   "execution_count": 35,
   "metadata": {},
   "outputs": [],
   "source": [
    "#pip install python-whois"
   ]
  },
  {
   "cell_type": "code",
   "execution_count": 36,
   "metadata": {},
   "outputs": [],
   "source": [
    "import pandas as pd\n",
    "import json\n",
    "import whois"
   ]
  },
  {
   "cell_type": "markdown",
   "metadata": {},
   "source": [
    "## Parte 1"
   ]
  },
  {
   "cell_type": "markdown",
   "metadata": {},
   "source": [
    "Abrimos large_eve.json y luego verificamos tener los elementos correctos"
   ]
  },
  {
   "cell_type": "code",
   "execution_count": 37,
   "metadata": {},
   "outputs": [
    {
     "name": "stdout",
     "output_type": "stream",
     "text": [
      "Total de registros cargados: 746909\n",
      "<class 'pandas.core.frame.DataFrame'>\n",
      "RangeIndex: 746909 entries, 0 to 746908\n",
      "Data columns (total 28 columns):\n",
      " #   Column        Non-Null Count   Dtype  \n",
      "---  ------        --------------   -----  \n",
      " 0   timestamp     746909 non-null  object \n",
      " 1   flow_id       746892 non-null  float64\n",
      " 2   pcap_cnt      189115 non-null  float64\n",
      " 3   event_type    746909 non-null  object \n",
      " 4   vlan          188065 non-null  float64\n",
      " 5   src_ip        746892 non-null  object \n",
      " 6   src_port      746278 non-null  float64\n",
      " 7   dest_ip       746892 non-null  object \n",
      " 8   dest_port     746278 non-null  float64\n",
      " 9   proto         746892 non-null  object \n",
      " 10  alert         2145 non-null    object \n",
      " 11  ssh           6451 non-null    object \n",
      " 12  dns           15749 non-null   object \n",
      " 13  tx_id         88186 non-null   float64\n",
      " 14  http          170981 non-null  object \n",
      " 15  app_proto     186205 non-null  object \n",
      " 16  fileinfo      82787 non-null   object \n",
      " 17  tls           74 non-null      object \n",
      " 18  vars          620 non-null     object \n",
      " 19  flow          552307 non-null  object \n",
      " 20  icmp_type     614 non-null     float64\n",
      " 21  icmp_code     614 non-null     float64\n",
      " 22  tcp           534480 non-null  object \n",
      " 23  smtp          14 non-null      object \n",
      " 24  email         14 non-null      object \n",
      " 25  app_proto_tc  31 non-null      object \n",
      " 26  app_proto_ts  64 non-null      object \n",
      " 27  stats         17 non-null      object \n",
      "dtypes: float64(8), object(20)\n",
      "memory usage: 159.6+ MB\n",
      "None\n"
     ]
    }
   ],
   "source": [
    "json_file_path = 'large_eve.json'\n",
    "data = []\n",
    "\n",
    "with open(json_file_path, 'r') as file:\n",
    "    for line in file:\n",
    "        try:\n",
    "            data.append(json.loads(line))\n",
    "        except json.JSONDecodeError as e:\n",
    "            print(f\"Error al decodificar JSON en la línea: {e}\")\n",
    "\n",
    "print(f'Total de registros cargados: {len(data)}')\n",
    "\n",
    "df = pd.DataFrame(data)\n",
    "print(df.info())"
   ]
  },
  {
   "cell_type": "markdown",
   "metadata": {},
   "source": [
    "Filtramos DNS y verificamos tener exito al tener los elementos."
   ]
  },
  {
   "cell_type": "code",
   "execution_count": 38,
   "metadata": {},
   "outputs": [
    {
     "name": "stdout",
     "output_type": "stream",
     "text": [
      "Total de registros DNS: 15749\n",
      "Shape del DataFrame: (15749, 18)\n",
      "                         timestamp           flow_id  pcap_cnt event_type  \\\n",
      "0  2017-07-22T17:33:16.661646-0500  1327836194150542     22269        dns   \n",
      "1  2017-07-22T17:33:24.990320-0500  2022925111925872     54352        dns   \n",
      "2  2017-07-22T17:33:27.379891-0500   578544790391795     54519        dns   \n",
      "3  2017-07-22T17:33:27.380146-0500   578544790391795     54520        dns   \n",
      "4  2017-07-22T17:33:27.380146-0500   578544790391795     54520        dns   \n",
      "\n",
      "   vlan                                   src_ip  src_port  \\\n",
      "0   110  2001:0dbb:0c18:0011:0260:6eff:fe30:0863     59680   \n",
      "1   110  2001:0dbb:0c18:0011:0260:6eff:fe30:0863     38051   \n",
      "2   150                          192.168.205.170     31393   \n",
      "3   150                            192.168.207.4        53   \n",
      "4   150                            192.168.207.4        53   \n",
      "\n",
      "                                   dest_ip  dest_port proto dns.type  dns.id  \\\n",
      "0  2001:0500:0001:0000:0000:0000:803f:0235         53   UDP    query   15529   \n",
      "1  2001:0500:0003:0000:0000:0000:0000:0042         53   UDP    query   58278   \n",
      "2                            192.168.207.4         53   UDP    query   54724   \n",
      "3                          192.168.205.170      31393   UDP   answer   54724   \n",
      "4                          192.168.205.170      31393   UDP   answer   54724   \n",
      "\n",
      "                                   dns.rrname dns.rrtype  dns.tx_id dns.rcode  \\\n",
      "0                        api.wunderground.com          A        0.0       NaN   \n",
      "1                         stork79.dropbox.com          A        0.0       NaN   \n",
      "2  hpca-tier2.office.aol.com.ad.aol.aoltw.net          A        0.0       NaN   \n",
      "3  hpca-tier2.office.aol.com.ad.aol.aoltw.net        NaN        NaN  NXDOMAIN   \n",
      "4                                      <root>        SOA        NaN  NXDOMAIN   \n",
      "\n",
      "   dns.ttl dns.rdata  \n",
      "0      NaN       NaN  \n",
      "1      NaN       NaN  \n",
      "2      NaN       NaN  \n",
      "3      NaN       NaN  \n",
      "4  20864.0       NaN  \n",
      "                             timestamp           flow_id  pcap_cnt event_type  \\\n",
      "11490  2017-07-22T19:29:19.093115-0500  2014226111491003   3354795        dns   \n",
      "12528  2017-07-22T19:29:18.501979-0500    90703533091035   3353677        dns   \n",
      "\n",
      "       vlan           src_ip  src_port        dest_ip  dest_port proto  \\\n",
      "11490   150  192.168.205.188     40775  192.168.207.4         53   UDP   \n",
      "12528   150  192.168.205.188     45264  192.168.207.4         53   UDP   \n",
      "\n",
      "      dns.type  dns.id                 dns.rrname dns.rrtype  dns.tx_id  \\\n",
      "11490    query   39717  mirror.5ninesolutions.com          A        0.0   \n",
      "12528    query   20831        mirror.stanford.edu          A        0.0   \n",
      "\n",
      "      dns.rcode  dns.ttl dns.rdata  \n",
      "11490       NaN      NaN       NaN  \n",
      "12528       NaN      NaN       NaN  \n"
     ]
    }
   ],
   "source": [
    "dns_records = [record for record in data if record.get('event_type') == 'dns']\n",
    "print(f'Total de registros DNS: {len(dns_records)}')\n",
    "df_dns = pd.json_normalize(dns_records)\n",
    "print(f'Shape del DataFrame: {df_dns.shape}')\n",
    "print(df_dns.head())\n",
    "df_dns_a_records = df_dns[df_dns['dns.rrtype'] == 'A']\n",
    "print(df_dns_a_records.sample(2))"
   ]
  },
  {
   "cell_type": "markdown",
   "metadata": {},
   "source": [
    "Mostramos dos elementos cualquiera"
   ]
  },
  {
   "cell_type": "code",
   "execution_count": 39,
   "metadata": {},
   "outputs": [
    {
     "name": "stdout",
     "output_type": "stream",
     "text": [
      "{\n",
      "  \"timestamp\": \"2017-07-22T17:33:16.661646-0500\",\n",
      "  \"flow_id\": 1327836194150542,\n",
      "  \"pcap_cnt\": 22269,\n",
      "  \"event_type\": \"dns\",\n",
      "  \"vlan\": 110,\n",
      "  \"src_ip\": \"2001:0dbb:0c18:0011:0260:6eff:fe30:0863\",\n",
      "  \"src_port\": 59680,\n",
      "  \"dest_ip\": \"2001:0500:0001:0000:0000:0000:803f:0235\",\n",
      "  \"dest_port\": 53,\n",
      "  \"proto\": \"UDP\",\n",
      "  \"dns\": {\n",
      "    \"type\": \"query\",\n",
      "    \"id\": 15529,\n",
      "    \"rrname\": \"api.wunderground.com\",\n",
      "    \"rrtype\": \"A\",\n",
      "    \"tx_id\": 0\n",
      "  }\n",
      "}\n",
      "{\n",
      "  \"timestamp\": \"2017-07-22T17:33:24.990320-0500\",\n",
      "  \"flow_id\": 2022925111925872,\n",
      "  \"pcap_cnt\": 54352,\n",
      "  \"event_type\": \"dns\",\n",
      "  \"vlan\": 110,\n",
      "  \"src_ip\": \"2001:0dbb:0c18:0011:0260:6eff:fe30:0863\",\n",
      "  \"src_port\": 38051,\n",
      "  \"dest_ip\": \"2001:0500:0003:0000:0000:0000:0000:0042\",\n",
      "  \"dest_port\": 53,\n",
      "  \"proto\": \"UDP\",\n",
      "  \"dns\": {\n",
      "    \"type\": \"query\",\n",
      "    \"id\": 58278,\n",
      "    \"rrname\": \"stork79.dropbox.com\",\n",
      "    \"rrtype\": \"A\",\n",
      "    \"tx_id\": 0\n",
      "  }\n",
      "}\n"
     ]
    }
   ],
   "source": [
    "print(json.dumps(dns_records[0], indent=2))\n",
    "print(json.dumps(dns_records[1], indent=2))"
   ]
  },
  {
   "cell_type": "markdown",
   "metadata": {},
   "source": [
    "Mostramos la forma de DNS"
   ]
  },
  {
   "cell_type": "code",
   "execution_count": 40,
   "metadata": {},
   "outputs": [
    {
     "name": "stdout",
     "output_type": "stream",
     "text": [
      "(15749, 18)\n"
     ]
    }
   ],
   "source": [
    "print(df_dns.shape)"
   ]
  },
  {
   "cell_type": "markdown",
   "metadata": {},
   "source": [
    "filtrar los registros DNS para aquellos registros tipo A"
   ]
  },
  {
   "cell_type": "code",
   "execution_count": 41,
   "metadata": {},
   "outputs": [
    {
     "name": "stdout",
     "output_type": "stream",
     "text": [
      "Total de registros tipo 'A': 2849\n"
     ]
    }
   ],
   "source": [
    "print(f\"Total de registros tipo 'A': {len(df_dns_a_records)}\")"
   ]
  },
  {
   "cell_type": "markdown",
   "metadata": {},
   "source": [
    "Filtrar los dominios únicos"
   ]
  },
  {
   "cell_type": "code",
   "execution_count": 42,
   "metadata": {},
   "outputs": [
    {
     "name": "stdout",
     "output_type": "stream",
     "text": [
      "Total de dominios únicos tipo 'A': 177\n"
     ]
    }
   ],
   "source": [
    "unique_a_records = df_dns_a_records['dns.rrname'].unique()\n",
    "print(f\"Total de dominios únicos tipo 'A': {len(unique_a_records)}\")\n"
   ]
  },
  {
   "cell_type": "markdown",
   "metadata": {},
   "source": [
    "Función que extraiga el TLD de un dominio completo"
   ]
  },
  {
   "cell_type": "code",
   "execution_count": 43,
   "metadata": {},
   "outputs": [
    {
     "name": "stdout",
     "output_type": "stream",
     "text": [
      "wunderground.com\n",
      "com.home\n"
     ]
    }
   ],
   "source": [
    "from urllib.parse import urlparse\n",
    "\n",
    "def get_tld(domain):\n",
    "    if domain:\n",
    "        if not domain.startswith(('http://', 'https://')):\n",
    "            domain = 'http://' + domain\n",
    "        tld = urlparse(domain).hostname.split('.')[-2:]\n",
    "        return '.'.join(tld) if len(tld) == 2 else domain\n",
    "    return \"\"\n",
    "\n",
    "print(get_tld(\"api.wunderground.com\"))\n",
    "print(get_tld(\"safebrowsing.clients.google.com.home\"))\n"
   ]
  },
  {
   "cell_type": "code",
   "execution_count": 44,
   "metadata": {},
   "outputs": [
    {
     "name": "stdout",
     "output_type": "stream",
     "text": [
      "           domain_tld\n",
      "0    wunderground.com\n",
      "1         dropbox.com\n",
      "2           aoltw.net\n",
      "3            com.home\n",
      "4         mozilla.com\n",
      "..                ...\n",
      "172   com.localdomain\n",
      "173     microsoft.com\n",
      "174      verisign.com\n",
      "175            22.201\n",
      "176          real.com\n",
      "\n",
      "[177 rows x 1 columns]\n"
     ]
    }
   ],
   "source": [
    "df_unique_a = pd.DataFrame(unique_a_records, columns=['domain'])\n",
    "\n",
    "df_unique_a['domain_tld'] = df_unique_a['domain'].apply(get_tld)\n",
    "\n",
    "df_unique_a = df_unique_a.drop(columns=['domain'])\n",
    "\n",
    "print(df_unique_a)"
   ]
  },
  {
   "cell_type": "markdown",
   "metadata": {},
   "source": [
    "## Parte 2"
   ]
  },
  {
   "cell_type": "markdown",
   "metadata": {},
   "source": [
    "Primero vamos a realizar la importación del clasificador adjuntado en el proyecto."
   ]
  },
  {
   "cell_type": "code",
   "execution_count": 45,
   "metadata": {},
   "outputs": [],
   "source": [
    "from clasificador import *"
   ]
  },
  {
   "cell_type": "markdown",
   "metadata": {},
   "source": [
    "Iniciamos el proceso de filtrar aquellos considerados como DGA (valor 1 )."
   ]
  },
  {
   "cell_type": "code",
   "execution_count": 46,
   "metadata": {},
   "outputs": [
    {
     "name": "stdout",
     "output_type": "stream",
     "text": [
      "                    domain_tld  isDGA\n",
      "1                  dropbox.com      1\n",
      "2                    aoltw.net      1\n",
      "5               metasploit.com      1\n",
      "18            22.110phpmyadmin      1\n",
      "24   110phpmyadmin.localdomain      1\n",
      "25                 windows.com      1\n",
      "27               ntkrnlpa.info      1\n",
      "34              sql-ledger.org      1\n",
      "35         backtrack-linux.org      1\n",
      "43              hackerlabs.vpn      1\n",
      "48              phpmyadmin.net      1\n",
      "51               microsoft.com      1\n",
      "60              postgresql.org      1\n",
      "62                 freepbx.org      1\n",
      "64           bigflickrfeed.com      1\n",
      "66                 http://wpad      1\n",
      "78                  flickr.com      1\n",
      "82             malwarecity.com      1\n",
      "83                facebook.com      1\n",
      "87                  xmarks.com      1\n",
      "89                 cakephp.org      1\n",
      "92                   adams.net      1\n",
      "95                clarkson.edu      1\n",
      "97                   ecvps.com      1\n",
      "98                    wisc.edu      1\n",
      "100               easynews.com      1\n",
      "101               bluehost.com      1\n",
      "106                 kernel.org      1\n",
      "108              liquidweb.com      1\n",
      "114             team-cymru.org      1\n",
      "117               xmission.com      1\n",
      "126                  http://FL      1\n",
      "127                  apple.com      1\n",
      "131             http://saruman      1\n",
      "144               msftncsi.com      1\n",
      "160       vtlfccmfxlkgifuf.com      1\n",
      "162             macromates.com      1\n",
      "167       ejfodfmfxlkgifuf.xyz      1\n",
      "176                   real.com      1\n",
      "Total de dominios únicos considerados DGA: 39\n"
     ]
    },
    {
     "name": "stderr",
     "output_type": "stream",
     "text": [
      "C:\\Users\\marco\\AppData\\Roaming\\Python\\Python310\\site-packages\\sklearn\\base.py:299: UserWarning: Trying to unpickle estimator DecisionTreeClassifier from version 1.0.2 when using version 1.2.1. This might lead to breaking code or invalid results. Use at your own risk. For more info please refer to:\n",
      "https://scikit-learn.org/stable/model_persistence.html#security-maintainability-limitations\n",
      "  warnings.warn(\n"
     ]
    }
   ],
   "source": [
    "df_classified = clasificacion(df_unique_a)\n",
    "df_dga = df_classified[df_classified['isDGA'] == 1]\n",
    "df_dga_unique = df_dga.drop_duplicates(subset=['domain_tld'])\n",
    "print(df_dga_unique)\n",
    "print(f'Total de dominios únicos considerados DGA: {len(df_dga_unique)}')"
   ]
  },
  {
   "cell_type": "markdown",
   "metadata": {},
   "source": [
    "## Parte 3"
   ]
  },
  {
   "cell_type": "markdown",
   "metadata": {},
   "source": [
    "Creación de función con el promt de chatGPT:"
   ]
  },
  {
   "cell_type": "markdown",
   "metadata": {},
   "source": [
    "\"Quiero escribir una función que sea capaz de tomar un listado de elementos de tipo dominios considerados como sospechosos. Vas a utilizar una lista de un millón de TLD y para esta función debes de devolver el valor '0' si el TLD que evaluarás se encuentra en el listado y '1' si no está.\""
   ]
  },
  {
   "cell_type": "code",
   "execution_count": 47,
   "metadata": {},
   "outputs": [],
   "source": [
    "top_1m_file_path = 'top-1m.csv'\n",
    "with open(top_1m_file_path, 'r') as file:\n",
    "    top_1m_tlds = set(line.strip().split(',')[1] for line in file)\n",
    "\n",
    "def check_tld_in_list(tld):\n",
    "    \"\"\"\n",
    "    Devuelve 0 si el TLD se encuentra en la lista de un millón de TLDs,\n",
    "    y 1 si no está.\n",
    "    \"\"\"\n",
    "    return 0 if tld in top_1m_tlds else 1"
   ]
  },
  {
   "cell_type": "code",
   "execution_count": 48,
   "metadata": {},
   "outputs": [
    {
     "name": "stdout",
     "output_type": "stream",
     "text": [
      "Total de dominios sospechosos únicos: 17\n"
     ]
    }
   ],
   "source": [
    "df_dga_unique = df_dga_unique.copy()\n",
    "\n",
    "df_dga_unique.loc[:, 'in_known_list'] = df_dga_unique['domain_tld'].apply(check_tld_in_list)\n",
    "\n",
    "df_suspected_domains = df_dga_unique[df_dga_unique['in_known_list'] == 1]\n",
    "\n",
    "df_suspected_domains = df_suspected_domains.drop_duplicates(subset=['domain_tld'])\n",
    "print(f'Total de dominios sospechosos únicos: {len(df_suspected_domains)}')\n"
   ]
  },
  {
   "cell_type": "markdown",
   "metadata": {},
   "source": [
    "Creamos una función basada en el TLD para la fecha de creación"
   ]
  },
  {
   "cell_type": "code",
   "execution_count": 49,
   "metadata": {},
   "outputs": [],
   "source": [
    "def obtener_fecha_creacion(tld):\n",
    "    try:\n",
    "        dominio_whois = whois.whois(tld)\n",
    "        return dominio_whois.creation_date\n",
    "    except Exception as e:\n",
    "        return f\"Error al obtener la fecha: {e}\""
   ]
  },
  {
   "cell_type": "code",
   "execution_count": 51,
   "metadata": {},
   "outputs": [],
   "source": [
    "df_suspected_domains['fecha_creacion'] = df_suspected_domains['domain_tld'].apply(obtener_fecha_creacion)"
   ]
  },
  {
   "cell_type": "code",
   "execution_count": 54,
   "metadata": {},
   "outputs": [
    {
     "data": {
      "text/html": [
       "<div>\n",
       "<style scoped>\n",
       "    .dataframe tbody tr th:only-of-type {\n",
       "        vertical-align: middle;\n",
       "    }\n",
       "\n",
       "    .dataframe tbody tr th {\n",
       "        vertical-align: top;\n",
       "    }\n",
       "\n",
       "    .dataframe thead th {\n",
       "        text-align: right;\n",
       "    }\n",
       "</style>\n",
       "<table border=\"1\" class=\"dataframe\">\n",
       "  <thead>\n",
       "    <tr style=\"text-align: right;\">\n",
       "      <th></th>\n",
       "      <th>domain_tld</th>\n",
       "      <th>fecha_creacion</th>\n",
       "    </tr>\n",
       "  </thead>\n",
       "  <tbody>\n",
       "    <tr>\n",
       "      <th>2</th>\n",
       "      <td>aoltw.net</td>\n",
       "      <td>2000-01-10 04:09:19</td>\n",
       "    </tr>\n",
       "    <tr>\n",
       "      <th>18</th>\n",
       "      <td>22.110phpmyadmin</td>\n",
       "      <td>None</td>\n",
       "    </tr>\n",
       "    <tr>\n",
       "      <th>24</th>\n",
       "      <td>110phpmyadmin.localdomain</td>\n",
       "      <td>None</td>\n",
       "    </tr>\n",
       "    <tr>\n",
       "      <th>27</th>\n",
       "      <td>ntkrnlpa.info</td>\n",
       "      <td>2023-06-27 08:18:55</td>\n",
       "    </tr>\n",
       "    <tr>\n",
       "      <th>34</th>\n",
       "      <td>sql-ledger.org</td>\n",
       "      <td>2000-09-08 16:25:09</td>\n",
       "    </tr>\n",
       "    <tr>\n",
       "      <th>35</th>\n",
       "      <td>backtrack-linux.org</td>\n",
       "      <td>2009-04-29 00:26:42</td>\n",
       "    </tr>\n",
       "    <tr>\n",
       "      <th>43</th>\n",
       "      <td>hackerlabs.vpn</td>\n",
       "      <td>None</td>\n",
       "    </tr>\n",
       "    <tr>\n",
       "      <th>64</th>\n",
       "      <td>bigflickrfeed.com</td>\n",
       "      <td>Error al obtener la fecha: No match for \"BIGFL...</td>\n",
       "    </tr>\n",
       "    <tr>\n",
       "      <th>66</th>\n",
       "      <td>http://wpad</td>\n",
       "      <td>None</td>\n",
       "    </tr>\n",
       "    <tr>\n",
       "      <th>82</th>\n",
       "      <td>malwarecity.com</td>\n",
       "      <td>[2008-02-06 15:42:35, 2008-02-06 00:00:00]</td>\n",
       "    </tr>\n",
       "    <tr>\n",
       "      <th>89</th>\n",
       "      <td>cakephp.org</td>\n",
       "      <td>2005-06-13 23:07:32</td>\n",
       "    </tr>\n",
       "    <tr>\n",
       "      <th>97</th>\n",
       "      <td>ecvps.com</td>\n",
       "      <td>2009-05-21 14:24:02</td>\n",
       "    </tr>\n",
       "    <tr>\n",
       "      <th>126</th>\n",
       "      <td>http://FL</td>\n",
       "      <td>None</td>\n",
       "    </tr>\n",
       "    <tr>\n",
       "      <th>131</th>\n",
       "      <td>http://saruman</td>\n",
       "      <td>None</td>\n",
       "    </tr>\n",
       "    <tr>\n",
       "      <th>160</th>\n",
       "      <td>vtlfccmfxlkgifuf.com</td>\n",
       "      <td>Error al obtener la fecha: No match for \"VTLFC...</td>\n",
       "    </tr>\n",
       "    <tr>\n",
       "      <th>162</th>\n",
       "      <td>macromates.com</td>\n",
       "      <td>[2003-02-05 00:25:14, 2003-02-04 19:25:14]</td>\n",
       "    </tr>\n",
       "    <tr>\n",
       "      <th>167</th>\n",
       "      <td>ejfodfmfxlkgifuf.xyz</td>\n",
       "      <td>None</td>\n",
       "    </tr>\n",
       "  </tbody>\n",
       "</table>\n",
       "</div>"
      ],
      "text/plain": [
       "                    domain_tld  \\\n",
       "2                    aoltw.net   \n",
       "18            22.110phpmyadmin   \n",
       "24   110phpmyadmin.localdomain   \n",
       "27               ntkrnlpa.info   \n",
       "34              sql-ledger.org   \n",
       "35         backtrack-linux.org   \n",
       "43              hackerlabs.vpn   \n",
       "64           bigflickrfeed.com   \n",
       "66                 http://wpad   \n",
       "82             malwarecity.com   \n",
       "89                 cakephp.org   \n",
       "97                   ecvps.com   \n",
       "126                  http://FL   \n",
       "131             http://saruman   \n",
       "160       vtlfccmfxlkgifuf.com   \n",
       "162             macromates.com   \n",
       "167       ejfodfmfxlkgifuf.xyz   \n",
       "\n",
       "                                        fecha_creacion  \n",
       "2                                  2000-01-10 04:09:19  \n",
       "18                                                None  \n",
       "24                                                None  \n",
       "27                                 2023-06-27 08:18:55  \n",
       "34                                 2000-09-08 16:25:09  \n",
       "35                                 2009-04-29 00:26:42  \n",
       "43                                                None  \n",
       "64   Error al obtener la fecha: No match for \"BIGFL...  \n",
       "66                                                None  \n",
       "82          [2008-02-06 15:42:35, 2008-02-06 00:00:00]  \n",
       "89                                 2005-06-13 23:07:32  \n",
       "97                                 2009-05-21 14:24:02  \n",
       "126                                               None  \n",
       "131                                               None  \n",
       "160  Error al obtener la fecha: No match for \"VTLFC...  \n",
       "162         [2003-02-05 00:25:14, 2003-02-04 19:25:14]  \n",
       "167                                               None  "
      ]
     },
     "execution_count": 54,
     "metadata": {},
     "output_type": "execute_result"
    }
   ],
   "source": [
    "df_suspected_domains[['domain_tld', 'fecha_creacion']]"
   ]
  },
  {
   "cell_type": "markdown",
   "metadata": {},
   "source": [
    "Ahora vamos a ver los elementos que tenemos en la tabla y al ojo crítico vamos a determinar cuales de estos se ven sospechosos según criterios que hemos visto en clase y en los laboratorios pasados.\n",
    "\n",
    "- ejfodfmfxlkgifuf.xyz\n",
    "- vtlfccmfxlkgifuf.com\n",
    "- cakephp.org\n",
    "- 110phpmyadmin.localdomain\n",
    "- 22.110phpmyadmin\n",
    "- malwarecity.com"
   ]
  }
 ],
 "metadata": {
  "kernelspec": {
   "display_name": "Python 3",
   "language": "python",
   "name": "python3"
  },
  "language_info": {
   "codemirror_mode": {
    "name": "ipython",
    "version": 3
   },
   "file_extension": ".py",
   "mimetype": "text/x-python",
   "name": "python",
   "nbconvert_exporter": "python",
   "pygments_lexer": "ipython3",
   "version": "3.10.5"
  }
 },
 "nbformat": 4,
 "nbformat_minor": 2
}
