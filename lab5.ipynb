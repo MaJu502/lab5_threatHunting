{
 "cells": [
  {
   "cell_type": "markdown",
   "metadata": {},
   "source": [
    "# Laboratorio no. 5 Threat Hunting\n",
    "Marco Jurado 20308"
   ]
  },
  {
   "cell_type": "code",
   "execution_count": 40,
   "metadata": {},
   "outputs": [],
   "source": [
    "import pandas as pd\n",
    "import json"
   ]
  },
  {
   "cell_type": "markdown",
   "metadata": {},
   "source": [
    "Abrimos large_eve.json y luego verificamos tener los elementos correctos"
   ]
  },
  {
   "cell_type": "code",
   "execution_count": 41,
   "metadata": {},
   "outputs": [
    {
     "name": "stdout",
     "output_type": "stream",
     "text": [
      "Total de registros cargados: 746909\n",
      "<class 'pandas.core.frame.DataFrame'>\n",
      "RangeIndex: 746909 entries, 0 to 746908\n",
      "Data columns (total 28 columns):\n",
      " #   Column        Non-Null Count   Dtype  \n",
      "---  ------        --------------   -----  \n",
      " 0   timestamp     746909 non-null  object \n",
      " 1   flow_id       746892 non-null  float64\n",
      " 2   pcap_cnt      189115 non-null  float64\n",
      " 3   event_type    746909 non-null  object \n",
      " 4   vlan          188065 non-null  float64\n",
      " 5   src_ip        746892 non-null  object \n",
      " 6   src_port      746278 non-null  float64\n",
      " 7   dest_ip       746892 non-null  object \n",
      " 8   dest_port     746278 non-null  float64\n",
      " 9   proto         746892 non-null  object \n",
      " 10  alert         2145 non-null    object \n",
      " 11  ssh           6451 non-null    object \n",
      " 12  dns           15749 non-null   object \n",
      " 13  tx_id         88186 non-null   float64\n",
      " 14  http          170981 non-null  object \n",
      " 15  app_proto     186205 non-null  object \n",
      " 16  fileinfo      82787 non-null   object \n",
      " 17  tls           74 non-null      object \n",
      " 18  vars          620 non-null     object \n",
      " 19  flow          552307 non-null  object \n",
      " 20  icmp_type     614 non-null     float64\n",
      " 21  icmp_code     614 non-null     float64\n",
      " 22  tcp           534480 non-null  object \n",
      " 23  smtp          14 non-null      object \n",
      " 24  email         14 non-null      object \n",
      " 25  app_proto_tc  31 non-null      object \n",
      " 26  app_proto_ts  64 non-null      object \n",
      " 27  stats         17 non-null      object \n",
      "dtypes: float64(8), object(20)\n",
      "memory usage: 159.6+ MB\n",
      "None\n"
     ]
    }
   ],
   "source": [
    "json_file_path = 'large_eve.json'\n",
    "data = []\n",
    "\n",
    "with open(json_file_path, 'r') as file:\n",
    "    for line in file:\n",
    "        try:\n",
    "            data.append(json.loads(line))\n",
    "        except json.JSONDecodeError as e:\n",
    "            print(f\"Error al decodificar JSON en la línea: {e}\")\n",
    "\n",
    "print(f'Total de registros cargados: {len(data)}')\n",
    "\n",
    "df = pd.DataFrame(data)\n",
    "print(df.info())"
   ]
  },
  {
   "cell_type": "markdown",
   "metadata": {},
   "source": [
    "Filtramos DNS y verificamos tener exito al tener los elementos."
   ]
  },
  {
   "cell_type": "code",
   "execution_count": 42,
   "metadata": {},
   "outputs": [
    {
     "name": "stdout",
     "output_type": "stream",
     "text": [
      "Total de registros DNS: 15749\n",
      "Shape del DataFrame: (15749, 18)\n",
      "                         timestamp           flow_id  pcap_cnt event_type  \\\n",
      "0  2017-07-22T17:33:16.661646-0500  1327836194150542     22269        dns   \n",
      "1  2017-07-22T17:33:24.990320-0500  2022925111925872     54352        dns   \n",
      "2  2017-07-22T17:33:27.379891-0500   578544790391795     54519        dns   \n",
      "3  2017-07-22T17:33:27.380146-0500   578544790391795     54520        dns   \n",
      "4  2017-07-22T17:33:27.380146-0500   578544790391795     54520        dns   \n",
      "\n",
      "   vlan                                   src_ip  src_port  \\\n",
      "0   110  2001:0dbb:0c18:0011:0260:6eff:fe30:0863     59680   \n",
      "1   110  2001:0dbb:0c18:0011:0260:6eff:fe30:0863     38051   \n",
      "2   150                          192.168.205.170     31393   \n",
      "3   150                            192.168.207.4        53   \n",
      "4   150                            192.168.207.4        53   \n",
      "\n",
      "                                   dest_ip  dest_port proto dns.type  dns.id  \\\n",
      "0  2001:0500:0001:0000:0000:0000:803f:0235         53   UDP    query   15529   \n",
      "1  2001:0500:0003:0000:0000:0000:0000:0042         53   UDP    query   58278   \n",
      "2                            192.168.207.4         53   UDP    query   54724   \n",
      "3                          192.168.205.170      31393   UDP   answer   54724   \n",
      "4                          192.168.205.170      31393   UDP   answer   54724   \n",
      "\n",
      "                                   dns.rrname dns.rrtype  dns.tx_id dns.rcode  \\\n",
      "0                        api.wunderground.com          A        0.0       NaN   \n",
      "1                         stork79.dropbox.com          A        0.0       NaN   \n",
      "2  hpca-tier2.office.aol.com.ad.aol.aoltw.net          A        0.0       NaN   \n",
      "3  hpca-tier2.office.aol.com.ad.aol.aoltw.net        NaN        NaN  NXDOMAIN   \n",
      "4                                      <root>        SOA        NaN  NXDOMAIN   \n",
      "\n",
      "   dns.ttl dns.rdata  \n",
      "0      NaN       NaN  \n",
      "1      NaN       NaN  \n",
      "2      NaN       NaN  \n",
      "3      NaN       NaN  \n",
      "4  20864.0       NaN  \n",
      "                             timestamp           flow_id  pcap_cnt event_type  \\\n",
      "15138  2017-07-22T19:29:19.136255-0500  1731073950028863   3354874        dns   \n",
      "4630   2017-07-22T18:29:17.341603-0500  1351649860597347    504516        dns   \n",
      "\n",
      "       vlan           src_ip  src_port        dest_ip  dest_port proto  \\\n",
      "15138   150  192.168.205.188     33503  192.168.207.4         53   UDP   \n",
      "4630    150  192.168.205.188     50758  192.168.207.4         53   UDP   \n",
      "\n",
      "      dns.type  dns.id               dns.rrname dns.rrtype  dns.tx_id  \\\n",
      "15138    query   50780           mirror.hmc.edu          A        0.0   \n",
      "4630     query    4041  mirror.ash.fastserv.com          A        0.0   \n",
      "\n",
      "      dns.rcode  dns.ttl dns.rdata  \n",
      "15138       NaN      NaN       NaN  \n",
      "4630        NaN      NaN       NaN  \n"
     ]
    }
   ],
   "source": [
    "dns_records = [record for record in data if record.get('event_type') == 'dns']\n",
    "print(f'Total de registros DNS: {len(dns_records)}')\n",
    "df_dns = pd.json_normalize(dns_records)\n",
    "print(f'Shape del DataFrame: {df_dns.shape}')\n",
    "print(df_dns.head())\n",
    "df_dns_a_records = df_dns[df_dns['dns.rrtype'] == 'A']\n",
    "print(df_dns_a_records.sample(2))"
   ]
  },
  {
   "cell_type": "markdown",
   "metadata": {},
   "source": [
    "Mostramos dos elementos cualquiera"
   ]
  },
  {
   "cell_type": "code",
   "execution_count": 43,
   "metadata": {},
   "outputs": [
    {
     "name": "stdout",
     "output_type": "stream",
     "text": [
      "{\n",
      "  \"timestamp\": \"2017-07-22T17:33:16.661646-0500\",\n",
      "  \"flow_id\": 1327836194150542,\n",
      "  \"pcap_cnt\": 22269,\n",
      "  \"event_type\": \"dns\",\n",
      "  \"vlan\": 110,\n",
      "  \"src_ip\": \"2001:0dbb:0c18:0011:0260:6eff:fe30:0863\",\n",
      "  \"src_port\": 59680,\n",
      "  \"dest_ip\": \"2001:0500:0001:0000:0000:0000:803f:0235\",\n",
      "  \"dest_port\": 53,\n",
      "  \"proto\": \"UDP\",\n",
      "  \"dns\": {\n",
      "    \"type\": \"query\",\n",
      "    \"id\": 15529,\n",
      "    \"rrname\": \"api.wunderground.com\",\n",
      "    \"rrtype\": \"A\",\n",
      "    \"tx_id\": 0\n",
      "  }\n",
      "}\n",
      "{\n",
      "  \"timestamp\": \"2017-07-22T17:33:24.990320-0500\",\n",
      "  \"flow_id\": 2022925111925872,\n",
      "  \"pcap_cnt\": 54352,\n",
      "  \"event_type\": \"dns\",\n",
      "  \"vlan\": 110,\n",
      "  \"src_ip\": \"2001:0dbb:0c18:0011:0260:6eff:fe30:0863\",\n",
      "  \"src_port\": 38051,\n",
      "  \"dest_ip\": \"2001:0500:0003:0000:0000:0000:0000:0042\",\n",
      "  \"dest_port\": 53,\n",
      "  \"proto\": \"UDP\",\n",
      "  \"dns\": {\n",
      "    \"type\": \"query\",\n",
      "    \"id\": 58278,\n",
      "    \"rrname\": \"stork79.dropbox.com\",\n",
      "    \"rrtype\": \"A\",\n",
      "    \"tx_id\": 0\n",
      "  }\n",
      "}\n"
     ]
    }
   ],
   "source": [
    "print(json.dumps(dns_records[0], indent=2))\n",
    "print(json.dumps(dns_records[1], indent=2))"
   ]
  },
  {
   "cell_type": "markdown",
   "metadata": {},
   "source": [
    "Mostramos la forma de DNS"
   ]
  },
  {
   "cell_type": "code",
   "execution_count": 44,
   "metadata": {},
   "outputs": [
    {
     "name": "stdout",
     "output_type": "stream",
     "text": [
      "(15749, 18)\n"
     ]
    }
   ],
   "source": [
    "print(df_dns.shape)"
   ]
  },
  {
   "cell_type": "markdown",
   "metadata": {},
   "source": [
    "filtrar los registros DNS para aquellos registros tipo A"
   ]
  },
  {
   "cell_type": "code",
   "execution_count": 45,
   "metadata": {},
   "outputs": [
    {
     "name": "stdout",
     "output_type": "stream",
     "text": [
      "Total de registros tipo 'A': 2849\n"
     ]
    }
   ],
   "source": [
    "print(f\"Total de registros tipo 'A': {len(df_dns_a_records)}\")"
   ]
  },
  {
   "cell_type": "markdown",
   "metadata": {},
   "source": [
    "Filtrar los dominios únicos"
   ]
  },
  {
   "cell_type": "code",
   "execution_count": 46,
   "metadata": {},
   "outputs": [
    {
     "name": "stdout",
     "output_type": "stream",
     "text": [
      "Total de dominios únicos tipo 'A': 177\n"
     ]
    }
   ],
   "source": [
    "unique_a_records = df_dns_a_records['dns.rrname'].unique()\n",
    "print(f\"Total de dominios únicos tipo 'A': {len(unique_a_records)}\")\n"
   ]
  },
  {
   "cell_type": "markdown",
   "metadata": {},
   "source": [
    "Función que extraiga el TLD de un dominio completo"
   ]
  },
  {
   "cell_type": "code",
   "execution_count": 47,
   "metadata": {},
   "outputs": [
    {
     "name": "stdout",
     "output_type": "stream",
     "text": [
      "wunderground.com\n",
      "com.home\n"
     ]
    }
   ],
   "source": [
    "from urllib.parse import urlparse\n",
    "\n",
    "def get_tld(domain):\n",
    "    if domain:\n",
    "        if not domain.startswith(('http://', 'https://')):\n",
    "            domain = 'http://' + domain\n",
    "        tld = urlparse(domain).hostname.split('.')[-2:]\n",
    "        return '.'.join(tld) if len(tld) == 2 else domain\n",
    "    return \"\"\n",
    "\n",
    "print(get_tld(\"api.wunderground.com\"))\n",
    "print(get_tld(\"safebrowsing.clients.google.com.home\"))\n"
   ]
  },
  {
   "cell_type": "code",
   "execution_count": 48,
   "metadata": {},
   "outputs": [
    {
     "name": "stdout",
     "output_type": "stream",
     "text": [
      "           domain_tld\n",
      "0    wunderground.com\n",
      "1         dropbox.com\n",
      "2           aoltw.net\n",
      "3            com.home\n",
      "4         mozilla.com\n",
      "..                ...\n",
      "172   com.localdomain\n",
      "173     microsoft.com\n",
      "174      verisign.com\n",
      "175            22.201\n",
      "176          real.com\n",
      "\n",
      "[177 rows x 1 columns]\n"
     ]
    }
   ],
   "source": [
    "df_unique_a = pd.DataFrame(unique_a_records, columns=['domain'])\n",
    "\n",
    "df_unique_a['domain_tld'] = df_unique_a['domain'].apply(get_tld)\n",
    "\n",
    "df_unique_a = df_unique_a.drop(columns=['domain'])\n",
    "\n",
    "print(df_unique_a)"
   ]
  }
 ],
 "metadata": {
  "kernelspec": {
   "display_name": "Python 3",
   "language": "python",
   "name": "python3"
  },
  "language_info": {
   "codemirror_mode": {
    "name": "ipython",
    "version": 3
   },
   "file_extension": ".py",
   "mimetype": "text/x-python",
   "name": "python",
   "nbconvert_exporter": "python",
   "pygments_lexer": "ipython3",
   "version": "3.10.5"
  }
 },
 "nbformat": 4,
 "nbformat_minor": 2
}
